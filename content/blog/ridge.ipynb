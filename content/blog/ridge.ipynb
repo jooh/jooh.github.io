{
 "cells": [
  {
   "cell_type": "markdown",
   "metadata": {},
   "source": [
    "In this notebook I will demonstrate that ridge regression is easy to understand algorithmically."
   ]
  },
  {
   "cell_type": "code",
   "execution_count": 1,
   "metadata": {},
   "outputs": [],
   "source": [
    "import numpy as np\n",
    "import matplotlib.pyplot as plt"
   ]
  },
  {
   "cell_type": "code",
   "execution_count": 52,
   "metadata": {},
   "outputs": [],
   "source": [
    "n_samp = 11\n",
    "n_feat = 10\n",
    "n_comp = 3\n",
    "n_y = 1\n",
    "components = np.random.randn(n_samp, n_comp)\n",
    "# mapping from components to features\n",
    "weights_features = np.random.randn(n_comp, n_feat)\n",
    "# the features are a linear combination of lower-dimensional components\n",
    "features = components @ weights_features\n",
    "# the data is a (different) linear combination of the components, with noise on top\n",
    "weights_y = np.random.randn(n_comp, n_y)\n",
    "noise_train = np.random.randn(n_samp, n_y) * 3\n",
    "noise_test = np.random.randn(n_samp, n_y) * 3\n",
    "y_train = components @ weights_y + noise_train\n",
    "y_test = components @ weights_y + noise_test"
   ]
  },
  {
   "cell_type": "code",
   "execution_count": 53,
   "metadata": {},
   "outputs": [
    {
     "data": {
      "text/plain": [
       "<matplotlib.image.AxesImage at 0x11846d320>"
      ]
     },
     "execution_count": 53,
     "metadata": {},
     "output_type": "execute_result"
    },
    {
     "data": {
      "image/png": "[encoded data removed]",
      "text/plain": [
       "<Figure size 432x288 with 4 Axes>"
      ]
     },
     "metadata": {
      "needs_background": "light"
     },
     "output_type": "display_data"
    }
   ],
   "source": [
    "# so the data and design are\n",
    "fig, ax = plt.subplots(1, 4, sharey=True)\n",
    "ax[0].imshow(components)\n",
    "ax[1].imshow(features)\n",
    "ax[2].imshow(y_train)\n",
    "ax[3].imshow(y_test)"
   ]
  },
  {
   "cell_type": "code",
   "execution_count": 54,
   "metadata": {},
   "outputs": [
    {
     "name": "stdout",
     "output_type": "stream",
     "text": [
      "[-0.45929706 -0.37661438 -0.03730796]\n",
      "[-0.45929706 -0.37661438 -0.03730796]\n"
     ]
    }
   ],
   "source": [
    "# let's play with different ways of understanding this data.\n",
    "# for convenience, let's define some functions to deal with\n",
    "# the basic GLM maths\n",
    "def r2(x, y, y_test):\n",
    "    b_hat = np.linalg.lstsq(x, y, rcond=None)[0]\n",
    "    y_hat = x @ b_hat\n",
    "    # correlate prediction with *out-of-sample* data\n",
    "    return corrpairs(y_hat, y_test)\n",
    "\n",
    "def unit_length(x):\n",
    "    return x / np.sqrt(np.sum(x ** 2, axis=0))\n",
    "\n",
    "# TODO - move this to sana\n",
    "def corrpairs(x, y):\n",
    "    return np.multiply(*[unit_length(thisvar-thisvar.mean(axis=0)) for thisvar in (x, y)]).sum(axis=0)\n",
    "\n",
    "# ta da\n",
    "print(corrpairs(components, y))\n",
    "print(np.corrcoef(np.hstack((components,y)).T)[-1,:-1])"
   ]
  },
  {
   "cell_type": "code",
   "execution_count": 55,
   "metadata": {},
   "outputs": [
    {
     "data": {
      "text/plain": [
       "array([0.81342643])"
      ]
     },
     "execution_count": 55,
     "metadata": {},
     "output_type": "execute_result"
    }
   ],
   "source": [
    "# we can do rather well if we know the components\n",
    "r2(components, y_train, y_train)"
   ]
  },
  {
   "cell_type": "code",
   "execution_count": 56,
   "metadata": {},
   "outputs": [
    {
     "data": {
      "text/plain": [
       "array([0.57079701])"
      ]
     },
     "execution_count": 56,
     "metadata": {},
     "output_type": "execute_result"
    }
   ],
   "source": [
    "# out of sample\n",
    "r2(components, y_train, y_test)"
   ]
  },
  {
   "cell_type": "code",
   "execution_count": 57,
   "metadata": {},
   "outputs": [
    {
     "data": {
      "text/plain": [
       "array([0.81342643])"
      ]
     },
     "execution_count": 57,
     "metadata": {},
     "output_type": "execute_result"
    }
   ],
   "source": [
    "# and equally well with the features (in sample!)\n",
    "r2(features, y_train, y_train)"
   ]
  },
  {
   "cell_type": "code",
   "execution_count": 58,
   "metadata": {},
   "outputs": [
    {
     "data": {
      "text/plain": [
       "array([0.57079701])"
      ]
     },
     "execution_count": 58,
     "metadata": {},
     "output_type": "execute_result"
    }
   ],
   "source": [
    "r2(features, y_train, y_test)"
   ]
  },
  {
   "cell_type": "code",
   "execution_count": null,
   "metadata": {},
   "outputs": [],
   "source": [
    "# I suspect this demo does not work. Because the features are just linear combinations \n",
    "# of the components, so I think the OLS prediction ends up being *the same*. Huh. Indeed.\n",
    "# Did I make a mistake somewhere? Reveals the limitations of my understanding of ridge I\n",
    "# think."
   ]
  }
 ],
 "metadata": {
  "kernelspec": {
   "display_name": "Python 3",
   "language": "python",
   "name": "python3"
  },
  "language_info": {
   "codemirror_mode": {
    "name": "ipython",
    "version": 3
   },
   "file_extension": ".py",
   "mimetype": "text/x-python",
   "name": "python",
   "nbconvert_exporter": "python",
   "pygments_lexer": "ipython3",
   "version": "3.7.3"
  }
 },
 "nbformat": 4,
 "nbformat_minor": 4
}
